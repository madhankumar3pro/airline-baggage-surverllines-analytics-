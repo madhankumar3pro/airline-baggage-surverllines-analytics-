{
  "nbformat": 4,
  "nbformat_minor": 0,
  "metadata": {
    "colab": {
      "name": "Svm_Model commented.ipynb",
      "provenance": [],
      "collapsed_sections": []
    },
    "kernelspec": {
      "name": "python3",
      "display_name": "Python 3"
    },
    "language_info": {
      "name": "python"
    }
  },
  "cells": [
    {
      "cell_type": "markdown",
      "metadata": {
        "id": "ye3RbpxvAOZd"
      },
      "source": [
        "import google drive from google"
      ]
    },
    {
      "cell_type": "code",
      "metadata": {
        "colab": {
          "base_uri": "https://localhost:8080/"
        },
        "id": "fonIaUF23Dso",
        "outputId": "dacfa6d5-b088-4a8f-8ef6-af085fd70d18"
      },
      "source": [
        "from google.colab import drive\n",
        "drive.mount(\"/content/gdrive\")"
      ],
      "execution_count": null,
      "outputs": [
        {
          "output_type": "stream",
          "text": [
            "Mounted at /content/gdrive\n"
          ],
          "name": "stdout"
        }
      ]
    },
    {
      "cell_type": "markdown",
      "metadata": {
        "id": "t6fAD4ttAUJG"
      },
      "source": [
        "Importing pandas numpy matplotlib and seaborn\n"
      ]
    },
    {
      "cell_type": "code",
      "metadata": {
        "id": "mYoYvigh3LfC"
      },
      "source": [
        "import pandas as pd\n",
        "import numpy as np\n",
        "import matplotlib.pyplot as plt\n",
        "import seaborn as sns"
      ],
      "execution_count": null,
      "outputs": []
    },
    {
      "cell_type": "markdown",
      "metadata": {
        "id": "KRi4FF0dAecS"
      },
      "source": [
        "L2 operator Dataframe\n",
        "L3 operator Dataframe"
      ]
    },
    {
      "cell_type": "code",
      "metadata": {
        "id": "J0zOGsIS3N1B"
      },
      "source": [
        "l2_op=pd.read_csv(\"/content/gdrive/My Drive/l2_operator.csv\")\n",
        "l3_op=pd.read_csv(\"/content/gdrive/My Drive/l3_operator.csv\")"
      ],
      "execution_count": null,
      "outputs": []
    },
    {
      "cell_type": "markdown",
      "metadata": {
        "id": "2BcZfgg0CFZJ"
      },
      "source": [
        "Created dummies for L2 decision and dropped first dummy"
      ]
    },
    {
      "cell_type": "code",
      "metadata": {
        "id": "FVI2f0S23VY_"
      },
      "source": [
        "l2_op=pd.get_dummies(l2_op,columns=[\"L2Decision\"],drop_first=True)"
      ],
      "execution_count": null,
      "outputs": []
    },
    {
      "cell_type": "markdown",
      "metadata": {
        "id": "ZGA69EqaCwSR"
      },
      "source": [
        "Importing train test split"
      ]
    },
    {
      "cell_type": "code",
      "metadata": {
        "id": "x6WychV73bw0"
      },
      "source": [
        "from sklearn.model_selection import train_test_split"
      ],
      "execution_count": null,
      "outputs": []
    },
    {
      "cell_type": "markdown",
      "metadata": {
        "id": "l9zWzmApDZc6"
      },
      "source": [
        "Scaling and normalization\n"
      ]
    },
    {
      "cell_type": "code",
      "metadata": {
        "id": "rkHvtzusOX8z"
      },
      "source": [
        "def scaling(data):\n",
        "  data=(data-data.mean())/(data.std())\n",
        "  return data\n",
        "def norm(data):\n",
        "  data=(data-data.min())/(data.max()-data.min())\n",
        "  return data\n"
      ],
      "execution_count": null,
      "outputs": []
    },
    {
      "cell_type": "markdown",
      "metadata": {
        "id": "e8jEDdKiDlop"
      },
      "source": [
        "L2 operator X and Y columns sample data of 500 \n",
        "\n",
        "scaling is done on X\n",
        "\n",
        "Splited L2 operator in 80 percent and 20 percent"
      ]
    },
    {
      "cell_type": "code",
      "metadata": {
        "id": "JR7nDN5l3aIe"
      },
      "source": [
        "l2_operator_X=l2_op.loc[0:500,l2_op.columns!=\"performance\"]\n",
        "l2_operator_Y=l2_op.loc[0:500,l2_op.columns==\"performance\"]\n",
        "l2_operator_X=scaling(l2_operator_X.iloc[:,:])\n",
        "\n",
        "l2_train_X,l2_test_X,l2_train_Y,l2_test_Y=train_test_split(l2_operator_X,l2_operator_Y,test_size=0.2)"
      ],
      "execution_count": null,
      "outputs": []
    },
    {
      "cell_type": "markdown",
      "metadata": {
        "id": "FeiCEzE9Eb2w"
      },
      "source": [
        "Importing Svm as Calssifier\n",
        "and kernel is linear\n",
        "\n",
        "Fitted with model train"
      ]
    },
    {
      "cell_type": "code",
      "metadata": {
        "id": "2b9caItS3txe",
        "colab": {
          "base_uri": "https://localhost:8080/"
        },
        "outputId": "8f191f7e-044f-4de0-f818-b39d20da534e"
      },
      "source": [
        "from sklearn.svm import SVC\n",
        "model_linear = SVC(kernel = \"linear\")\n",
        "\n",
        "model_linear.fit(l2_train_X, l2_train_Y[\"performance\"])"
      ],
      "execution_count": null,
      "outputs": [
        {
          "output_type": "execute_result",
          "data": {
            "text/plain": [
              "SVC(C=1.0, break_ties=False, cache_size=200, class_weight=None, coef0=0.0,\n",
              "    decision_function_shape='ovr', degree=3, gamma='scale', kernel='linear',\n",
              "    max_iter=-1, probability=False, random_state=None, shrinking=True,\n",
              "    tol=0.001, verbose=False)"
            ]
          },
          "metadata": {
            "tags": []
          },
          "execution_count": 8
        }
      ]
    },
    {
      "cell_type": "markdown",
      "metadata": {
        "id": "AgpofCyEEvjD"
      },
      "source": [
        "Predicting Test for L2 operators"
      ]
    },
    {
      "cell_type": "code",
      "metadata": {
        "id": "fvWcEHQS3vT6",
        "colab": {
          "base_uri": "https://localhost:8080/"
        },
        "outputId": "f764d2c5-9d2c-4e6c-90c9-1869e75cfcdc"
      },
      "source": [
        "pred_test_linear = model_linear.predict(l2_test_X)\n",
        "\n",
        "print(np.mean(pred_test_linear == l2_test_Y[\"performance\"]))\n",
        "\n",
        "print(pd.crosstab(pred_test_linear,l2_test_Y[\"performance\"]))"
      ],
      "execution_count": null,
      "outputs": [
        {
          "output_type": "stream",
          "text": [
            "1.0\n",
            "performance  Bad  Excellent  Good  Normal\n",
            "row_0                                    \n",
            "Bad            3          0     0       0\n",
            "Excellent      0         29     0       0\n",
            "Good           0          0    48       0\n",
            "Normal         0          0     0      21\n"
          ],
          "name": "stdout"
        }
      ]
    },
    {
      "cell_type": "markdown",
      "metadata": {
        "id": "ADPwcHpkEzmD"
      },
      "source": [
        "Predicting Train for L2 operators"
      ]
    },
    {
      "cell_type": "code",
      "metadata": {
        "id": "rwiPqj003z5p",
        "colab": {
          "base_uri": "https://localhost:8080/"
        },
        "outputId": "45d18197-067f-4d2d-f68d-b77c4ce7470b"
      },
      "source": [
        "pred_train_linear = model_linear.predict(l2_train_X)\n",
        "\n",
        "print(np.mean(pred_train_linear == l2_train_Y[\"performance\"]))\n",
        "\n",
        "print(pd.crosstab(pred_train_linear,l2_train_Y[\"performance\"]))"
      ],
      "execution_count": null,
      "outputs": [
        {
          "output_type": "stream",
          "text": [
            "1.0\n",
            "performance  Bad  Excellent  Good  Normal\n",
            "row_0                                    \n",
            "Bad            7          0     0       0\n",
            "Excellent      0        143     0       0\n",
            "Good           0          0   180       0\n",
            "Normal         0          0     0      70\n"
          ],
          "name": "stdout"
        }
      ]
    },
    {
      "cell_type": "markdown",
      "metadata": {
        "id": "RUwRjZVrE4PV"
      },
      "source": [
        "Creating dummies for l3 operator decision and dropped first"
      ]
    },
    {
      "cell_type": "code",
      "metadata": {
        "id": "BBtVOGBt-NNQ"
      },
      "source": [
        "l3_op=pd.get_dummies(l3_op,columns=[\"L3Decision\"],drop_first=True)"
      ],
      "execution_count": null,
      "outputs": []
    },
    {
      "cell_type": "markdown",
      "metadata": {
        "id": "5oGyQmDDFIKA"
      },
      "source": [
        "A sample of 500 data is taken and X is input and Y is Output"
      ]
    },
    {
      "cell_type": "code",
      "metadata": {
        "id": "WdjqnCJh-hC6"
      },
      "source": [
        "l3_op_X=l3_op.loc[0:500,l3_op.columns!=\"performance\"]\n",
        "l3_op_Y=l3_op.loc[0:500,l3_op.columns==\"performance\"]"
      ],
      "execution_count": null,
      "outputs": []
    },
    {
      "cell_type": "markdown",
      "metadata": {
        "id": "xKOMjCSqFQhS"
      },
      "source": [
        "Scaling for L3 operator"
      ]
    },
    {
      "cell_type": "code",
      "metadata": {
        "id": "zOqRtjP8-rEq"
      },
      "source": [
        "l3_op_X=scaling(l3_op_X.iloc[:,:])"
      ],
      "execution_count": null,
      "outputs": []
    },
    {
      "cell_type": "markdown",
      "metadata": {
        "id": "wpbYHrtvFTIQ"
      },
      "source": [
        "Splitted the train and test at 80 percent and 20 percent"
      ]
    },
    {
      "cell_type": "code",
      "metadata": {
        "id": "_XQAbSbH_FP4"
      },
      "source": [
        "l3_train_X,l3_test_X,l3_train_Y,l3_test_Y=train_test_split(l3_op_X,l3_op_Y,test_size=0.2)"
      ],
      "execution_count": null,
      "outputs": []
    },
    {
      "cell_type": "markdown",
      "metadata": {
        "id": "VcuMKmCKFai8"
      },
      "source": [
        "Imported Svm as classifier\n",
        "\n",
        "Kernel is linear\n",
        "\n",
        "Model is fit on train data"
      ]
    },
    {
      "cell_type": "code",
      "metadata": {
        "colab": {
          "base_uri": "https://localhost:8080/"
        },
        "id": "OxHKYI_K_JfH",
        "outputId": "90b67760-4e0d-424a-9872-cea1b2e20724"
      },
      "source": [
        "model_linear = SVC(kernel = \"linear\")\n",
        "\n",
        "model_linear.fit(l3_train_X, l3_train_Y[\"performance\"])"
      ],
      "execution_count": null,
      "outputs": [
        {
          "output_type": "execute_result",
          "data": {
            "text/plain": [
              "SVC(C=1.0, break_ties=False, cache_size=200, class_weight=None, coef0=0.0,\n",
              "    decision_function_shape='ovr', degree=3, gamma='scale', kernel='linear',\n",
              "    max_iter=-1, probability=False, random_state=None, shrinking=True,\n",
              "    tol=0.001, verbose=False)"
            ]
          },
          "metadata": {
            "tags": []
          },
          "execution_count": 15
        }
      ]
    },
    {
      "cell_type": "markdown",
      "metadata": {
        "id": "Of9CgWDAFoSq"
      },
      "source": [
        "Prediction on test data for l3 operators"
      ]
    },
    {
      "cell_type": "code",
      "metadata": {
        "colab": {
          "base_uri": "https://localhost:8080/"
        },
        "id": "VhLLybmg_OIn",
        "outputId": "6642c8b6-8bf5-4e01-e904-cfcceda42418"
      },
      "source": [
        "pred_test_linear = model_linear.predict(l3_test_X)\n",
        "\n",
        "print(np.mean(pred_test_linear == l3_test_Y[\"performance\"]))\n",
        "\n",
        "print(pd.crosstab(pred_test_linear,l3_test_Y[\"performance\"]))#accuracy is 100%"
      ],
      "execution_count": null,
      "outputs": [
        {
          "output_type": "stream",
          "text": [
            "1.0\n",
            "performance  Bad  Excellent  Good  Normal\n",
            "row_0                                    \n",
            "Bad            4          0     0       0\n",
            "Excellent      0         53     0       0\n",
            "Good           0          0    27       0\n",
            "Normal         0          0     0      17\n"
          ],
          "name": "stdout"
        }
      ]
    },
    {
      "cell_type": "markdown",
      "metadata": {
        "id": "rs7ByeqZFtdG"
      },
      "source": [
        "prediction for train data for l3 operators"
      ]
    },
    {
      "cell_type": "code",
      "metadata": {
        "colab": {
          "base_uri": "https://localhost:8080/"
        },
        "id": "g8cM3M1E_XUs",
        "outputId": "a168a483-0601-4c2a-c9b1-697ebedd54a2"
      },
      "source": [
        "pred_train_linear = model_linear.predict(l3_train_X)\n",
        "\n",
        "print(np.mean(pred_train_linear == l3_train_Y[\"performance\"]))\n",
        "\n",
        "print(pd.crosstab(pred_train_linear,l3_train_Y[\"performance\"]))#accuracy is 99%"
      ],
      "execution_count": null,
      "outputs": [
        {
          "output_type": "stream",
          "text": [
            "0.9975\n",
            "performance  Bad  Excellent  Good  Normal\n",
            "row_0                                    \n",
            "Bad           11          0     0       0\n",
            "Excellent      0        210     0       0\n",
            "Good           0          0   129       1\n",
            "Normal         0          0     0      49\n"
          ],
          "name": "stdout"
        }
      ]
    }
  ]
}