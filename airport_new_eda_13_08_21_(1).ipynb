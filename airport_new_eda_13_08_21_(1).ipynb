{
  "nbformat": 4,
  "nbformat_minor": 0,
  "metadata": {
    "colab": {
      "name": "airport_new_eda_13_08_21 (1).ipynb",
      "provenance": [],
      "collapsed_sections": []
    },
    "kernelspec": {
      "name": "python3",
      "display_name": "Python 3"
    },
    "language_info": {
      "name": "python"
    }
  },
  "cells": [
    {
      "cell_type": "markdown",
      "metadata": {
        "id": "URppPLJ1dXA1"
      },
      "source": [
        "**import google drive using google colab**"
      ]
    },
    {
      "cell_type": "code",
      "metadata": {
        "colab": {
          "base_uri": "https://localhost:8080/"
        },
        "id": "SrehoUmVm3mc",
        "outputId": "4c8b472b-6be9-41fd-9293-77e636fa31d2"
      },
      "source": [
        "from google.colab import drive\n",
        "drive.mount(\"/content/gdrive\")"
      ],
      "execution_count": null,
      "outputs": [
        {
          "output_type": "stream",
          "text": [
            "Mounted at /content/gdrive\n"
          ],
          "name": "stdout"
        }
      ]
    },
    {
      "cell_type": "markdown",
      "metadata": {
        "id": "tmZ7EoNedmVP"
      },
      "source": [
        "importing **pandas** **numpy** **matplotlib** and **seaborn**"
      ]
    },
    {
      "cell_type": "code",
      "metadata": {
        "id": "aan6UTgsdftl"
      },
      "source": [
        "import numpy as np#using for arithmatic claculations\n",
        "import matplotlib.pyplot as plt#data visualisation \n",
        "import seaborn as sns#data visualisation purpose"
      ],
      "execution_count": null,
      "outputs": []
    },
    {
      "cell_type": "markdown",
      "metadata": {
        "id": "VeEG0wHOdx9U"
      },
      "source": [
        "loading csv file using pandas and encoding utf-8 \n"
      ]
    },
    {
      "cell_type": "code",
      "metadata": {
        "id": "XO5Z5JhznSC1"
      },
      "source": [
        "\n",
        "data=pd.read_csv(\"/content/gdrive/My Drive/airport/BagTrack Report new2.csv\",encoding=\"ISO-8859-1\")## loaded data from the csv file\n"
      ],
      "execution_count": null,
      "outputs": []
    },
    {
      "cell_type": "code",
      "metadata": {
        "colab": {
          "base_uri": "https://localhost:8080/",
          "height": 417
        },
        "id": "75bJHtjeVPrE",
        "outputId": "7f72ef41-9b35-4131-d1ae-9248af6660b6"
      },
      "source": [
        "data# # display the first five rows from the data"
      ],
      "execution_count": null,
      "outputs": [
        {
          "output_type": "execute_result",
          "data": {
            "text/html": [
              "<div>\n",
              "<style scoped>\n",
              "    .dataframe tbody tr th:only-of-type {\n",
              "        vertical-align: middle;\n",
              "    }\n",
              "\n",
              "    .dataframe tbody tr th {\n",
              "        vertical-align: top;\n",
              "    }\n",
              "\n",
              "    .dataframe thead th {\n",
              "        text-align: right;\n",
              "    }\n",
              "</style>\n",
              "<table border=\"1\" class=\"dataframe\">\n",
              "  <thead>\n",
              "    <tr style=\"text-align: right;\">\n",
              "      <th></th>\n",
              "      <th>BagID</th>\n",
              "      <th>MVXR</th>\n",
              "      <th>BHSID</th>\n",
              "      <th>L1 Decision</th>\n",
              "      <th>Level1Decision</th>\n",
              "      <th>L2Decision</th>\n",
              "      <th>L2LoginID</th>\n",
              "      <th>L2DecisionTime</th>\n",
              "      <th>L3Decision</th>\n",
              "      <th>L3LoginID</th>\n",
              "      <th>L3DecisionTime</th>\n",
              "    </tr>\n",
              "  </thead>\n",
              "  <tbody>\n",
              "    <tr>\n",
              "      <th>0</th>\n",
              "      <td>5178</td>\n",
              "      <td>2</td>\n",
              "      <td>0312365478_0280SD</td>\n",
              "      <td>Reject</td>\n",
              "      <td>01-01-2020 00:16:19</td>\n",
              "      <td>Time out</td>\n",
              "      <td>32661.0</td>\n",
              "      <td>01-01-2020 00:16:46</td>\n",
              "      <td>Reject</td>\n",
              "      <td>32887</td>\n",
              "      <td>01-01-2020 00:16:54</td>\n",
              "    </tr>\n",
              "    <tr>\n",
              "      <th>1</th>\n",
              "      <td>5180</td>\n",
              "      <td>2</td>\n",
              "      <td>0312365545_0282SD</td>\n",
              "      <td>Reject</td>\n",
              "      <td>01-01-2020 00:19:28</td>\n",
              "      <td>Accept</td>\n",
              "      <td>32661.0</td>\n",
              "      <td>01-01-2020 00:19:41</td>\n",
              "      <td>-</td>\n",
              "      <td>-</td>\n",
              "      <td>-</td>\n",
              "    </tr>\n",
              "    <tr>\n",
              "      <th>2</th>\n",
              "      <td>5187</td>\n",
              "      <td>2</td>\n",
              "      <td>0312365871_0293SD</td>\n",
              "      <td>Reject</td>\n",
              "      <td>01-01-2020 00:24:39</td>\n",
              "      <td>Accept</td>\n",
              "      <td>32153.0</td>\n",
              "      <td>01-01-2020 00:24:44</td>\n",
              "      <td>-</td>\n",
              "      <td>-</td>\n",
              "      <td>-</td>\n",
              "    </tr>\n",
              "    <tr>\n",
              "      <th>3</th>\n",
              "      <td>5189</td>\n",
              "      <td>2</td>\n",
              "      <td>0312365971_0296SD</td>\n",
              "      <td>Reject</td>\n",
              "      <td>01-01-2020 00:28:31</td>\n",
              "      <td>Accept</td>\n",
              "      <td>32153.0</td>\n",
              "      <td>01-01-2020 00:28:42</td>\n",
              "      <td>-</td>\n",
              "      <td>-</td>\n",
              "      <td>-</td>\n",
              "    </tr>\n",
              "    <tr>\n",
              "      <th>4</th>\n",
              "      <td>5196</td>\n",
              "      <td>2</td>\n",
              "      <td>0312366152_0304SD</td>\n",
              "      <td>Reject</td>\n",
              "      <td>01-01-2020 00:33:42</td>\n",
              "      <td>Accept</td>\n",
              "      <td>32153.0</td>\n",
              "      <td>01-01-2020 00:33:47</td>\n",
              "      <td>-</td>\n",
              "      <td>-</td>\n",
              "      <td>-</td>\n",
              "    </tr>\n",
              "    <tr>\n",
              "      <th>...</th>\n",
              "      <td>...</td>\n",
              "      <td>...</td>\n",
              "      <td>...</td>\n",
              "      <td>...</td>\n",
              "      <td>...</td>\n",
              "      <td>...</td>\n",
              "      <td>...</td>\n",
              "      <td>...</td>\n",
              "      <td>...</td>\n",
              "      <td>...</td>\n",
              "      <td>...</td>\n",
              "    </tr>\n",
              "    <tr>\n",
              "      <th>1048569</th>\n",
              "      <td>707</td>\n",
              "      <td>1</td>\n",
              "      <td>0312150214_0331SC</td>\n",
              "      <td>Reject</td>\n",
              "      <td>3/24/2020 12:30:48</td>\n",
              "      <td>Accept</td>\n",
              "      <td>34243.0</td>\n",
              "      <td>3/24/2020 12:31:02</td>\n",
              "      <td>-</td>\n",
              "      <td>-</td>\n",
              "      <td>-</td>\n",
              "    </tr>\n",
              "    <tr>\n",
              "      <th>1048570</th>\n",
              "      <td>708</td>\n",
              "      <td>1</td>\n",
              "      <td>0312150213_0332SC</td>\n",
              "      <td>Reject</td>\n",
              "      <td>3/24/2020 12:30:51</td>\n",
              "      <td>Accept</td>\n",
              "      <td>32797.0</td>\n",
              "      <td>3/24/2020 12:31:11</td>\n",
              "      <td>-</td>\n",
              "      <td>-</td>\n",
              "      <td>-</td>\n",
              "    </tr>\n",
              "    <tr>\n",
              "      <th>1048571</th>\n",
              "      <td>722</td>\n",
              "      <td>1</td>\n",
              "      <td>0777523317_0349SC</td>\n",
              "      <td>Reject</td>\n",
              "      <td>3/24/2020 12:35:19</td>\n",
              "      <td>Accept</td>\n",
              "      <td>36548.0</td>\n",
              "      <td>3/24/2020 12:35:35</td>\n",
              "      <td>-</td>\n",
              "      <td>-</td>\n",
              "      <td>-</td>\n",
              "    </tr>\n",
              "    <tr>\n",
              "      <th>1048572</th>\n",
              "      <td>723</td>\n",
              "      <td>1</td>\n",
              "      <td>0312150421_0350SC</td>\n",
              "      <td>Reject</td>\n",
              "      <td>3/24/2020 12:35:22</td>\n",
              "      <td>Accept</td>\n",
              "      <td>34243.0</td>\n",
              "      <td>3/24/2020 12:35:47</td>\n",
              "      <td>-</td>\n",
              "      <td>-</td>\n",
              "      <td>-</td>\n",
              "    </tr>\n",
              "    <tr>\n",
              "      <th>1048573</th>\n",
              "      <td>724</td>\n",
              "      <td>1</td>\n",
              "      <td>0312150367_0352SC</td>\n",
              "      <td>Reject</td>\n",
              "      <td>3/24/2020 12:35:42</td>\n",
              "      <td>Reject</td>\n",
              "      <td>32797.0</td>\n",
              "      <td>3/24/2020 12:35:55</td>\n",
              "      <td>Reject</td>\n",
              "      <td>4402</td>\n",
              "      <td>3/24/2020 12:36:32</td>\n",
              "    </tr>\n",
              "  </tbody>\n",
              "</table>\n",
              "<p>1048574 rows × 11 columns</p>\n",
              "</div>"
            ],
            "text/plain": [
              "         BagID  MVXR  ... L3LoginID       L3DecisionTime \n",
              "0         5178     2  ...      32887  01-01-2020 00:16:54\n",
              "1         5180     2  ...          -                    -\n",
              "2         5187     2  ...          -                    -\n",
              "3         5189     2  ...          -                    -\n",
              "4         5196     2  ...          -                    -\n",
              "...        ...   ...  ...        ...                  ...\n",
              "1048569    707     1  ...          -                    -\n",
              "1048570    708     1  ...          -                    -\n",
              "1048571    722     1  ...          -                    -\n",
              "1048572    723     1  ...          -                    -\n",
              "1048573    724     1  ...       4402   3/24/2020 12:36:32\n",
              "\n",
              "[1048574 rows x 11 columns]"
            ]
          },
          "metadata": {
            "tags": []
          },
          "execution_count": 5
        }
      ]
    },
    {
      "cell_type": "markdown",
      "metadata": {
        "id": "WB_J5bs3edQS"
      },
      "source": [
        "Dropping L1decision and Bagid columns"
      ]
    },
    {
      "cell_type": "code",
      "metadata": {
        "id": "MlUnT-hWeL_X"
      },
      "source": [
        "data.columns=data.columns.str.replace(' ','')# # remove the trailing spaces from the column names"
      ],
      "execution_count": null,
      "outputs": []
    },
    {
      "cell_type": "code",
      "metadata": {
        "id": "BehH68iGecdL"
      },
      "source": [
        "data=data.drop([\"BagID\",\"L1Decision\"],axis=1)#dropped L1Decision column"
      ],
      "execution_count": null,
      "outputs": []
    },
    {
      "cell_type": "code",
      "metadata": {
        "id": "lzG3EP7MeFAB",
        "colab": {
          "base_uri": "https://localhost:8080/",
          "height": 665
        },
        "outputId": "647ad23f-4c9a-44be-b86d-a2e356aaf761"
      },
      "source": [
        "data.tail(20)#display last 20 rows"
      ],
      "execution_count": null,
      "outputs": [
        {
          "output_type": "execute_result",
          "data": {
            "text/html": [
              "<div>\n",
              "<style scoped>\n",
              "    .dataframe tbody tr th:only-of-type {\n",
              "        vertical-align: middle;\n",
              "    }\n",
              "\n",
              "    .dataframe tbody tr th {\n",
              "        vertical-align: top;\n",
              "    }\n",
              "\n",
              "    .dataframe thead th {\n",
              "        text-align: right;\n",
              "    }\n",
              "</style>\n",
              "<table border=\"1\" class=\"dataframe\">\n",
              "  <thead>\n",
              "    <tr style=\"text-align: right;\">\n",
              "      <th></th>\n",
              "      <th>MVXR</th>\n",
              "      <th>BHSID</th>\n",
              "      <th>Level1Decision</th>\n",
              "      <th>L2Decision</th>\n",
              "      <th>L2LoginID</th>\n",
              "      <th>L2DecisionTime</th>\n",
              "      <th>L3Decision</th>\n",
              "      <th>L3LoginID</th>\n",
              "      <th>L3DecisionTime</th>\n",
              "      <th>BHSID_prefix</th>\n",
              "      <th>Airlines_names</th>\n",
              "    </tr>\n",
              "  </thead>\n",
              "  <tbody>\n",
              "    <tr>\n",
              "      <th>1048554</th>\n",
              "      <td>2</td>\n",
              "      <td>0312232948_0513SD</td>\n",
              "      <td>2020-07-30 05:54:00</td>\n",
              "      <td>Accept</td>\n",
              "      <td>32149.0</td>\n",
              "      <td>2020-07-30 05:54:10</td>\n",
              "      <td>-</td>\n",
              "      <td>-</td>\n",
              "      <td>NaT</td>\n",
              "      <td>312</td>\n",
              "      <td>Indigo</td>\n",
              "    </tr>\n",
              "    <tr>\n",
              "      <th>1048555</th>\n",
              "      <td>2</td>\n",
              "      <td>0312232949_0512SD</td>\n",
              "      <td>2020-07-30 05:54:08</td>\n",
              "      <td>Accept</td>\n",
              "      <td>75204.0</td>\n",
              "      <td>2020-07-30 05:54:19</td>\n",
              "      <td>-</td>\n",
              "      <td>-</td>\n",
              "      <td>NaT</td>\n",
              "      <td>312</td>\n",
              "      <td>Indigo</td>\n",
              "    </tr>\n",
              "    <tr>\n",
              "      <th>1048556</th>\n",
              "      <td>4</td>\n",
              "      <td>0807786102_0568SF</td>\n",
              "      <td>2020-07-30 05:54:43</td>\n",
              "      <td>Accept</td>\n",
              "      <td>32149.0</td>\n",
              "      <td>2020-07-30 05:54:50</td>\n",
              "      <td>-</td>\n",
              "      <td>-</td>\n",
              "      <td>NaT</td>\n",
              "      <td>807</td>\n",
              "      <td>Air Asia</td>\n",
              "    </tr>\n",
              "    <tr>\n",
              "      <th>1048557</th>\n",
              "      <td>2</td>\n",
              "      <td>0000569139_0515SD</td>\n",
              "      <td>2020-07-30 05:54:44</td>\n",
              "      <td>Accept</td>\n",
              "      <td>75204.0</td>\n",
              "      <td>2020-07-30 05:54:53</td>\n",
              "      <td>-</td>\n",
              "      <td>-</td>\n",
              "      <td>NaT</td>\n",
              "      <td>000</td>\n",
              "      <td>MVXR</td>\n",
              "    </tr>\n",
              "    <tr>\n",
              "      <th>1048558</th>\n",
              "      <td>2</td>\n",
              "      <td>0312185873_0521SD</td>\n",
              "      <td>2020-07-30 06:03:24</td>\n",
              "      <td>Accept</td>\n",
              "      <td>75204.0</td>\n",
              "      <td>2020-07-30 06:03:44</td>\n",
              "      <td>-</td>\n",
              "      <td>-</td>\n",
              "      <td>NaT</td>\n",
              "      <td>312</td>\n",
              "      <td>Indigo</td>\n",
              "    </tr>\n",
              "    <tr>\n",
              "      <th>1048559</th>\n",
              "      <td>4</td>\n",
              "      <td>0807786311_0576SF</td>\n",
              "      <td>2020-07-30 06:03:27</td>\n",
              "      <td>Accept</td>\n",
              "      <td>32149.0</td>\n",
              "      <td>2020-07-30 06:03:45</td>\n",
              "      <td>-</td>\n",
              "      <td>-</td>\n",
              "      <td>NaT</td>\n",
              "      <td>807</td>\n",
              "      <td>Air Asia</td>\n",
              "    </tr>\n",
              "    <tr>\n",
              "      <th>1048560</th>\n",
              "      <td>2</td>\n",
              "      <td>0000569147_0523SD</td>\n",
              "      <td>2020-07-30 06:03:32</td>\n",
              "      <td>Reject</td>\n",
              "      <td>32149.0</td>\n",
              "      <td>2020-07-30 06:03:51</td>\n",
              "      <td>Accept</td>\n",
              "      <td>6320</td>\n",
              "      <td>2020-07-30 06:04:32</td>\n",
              "      <td>000</td>\n",
              "      <td>MVXR</td>\n",
              "    </tr>\n",
              "    <tr>\n",
              "      <th>1048561</th>\n",
              "      <td>1</td>\n",
              "      <td>0312149748_0296SC</td>\n",
              "      <td>2020-03-24 12:22:21</td>\n",
              "      <td>Reject</td>\n",
              "      <td>32797.0</td>\n",
              "      <td>2020-03-24 12:22:42</td>\n",
              "      <td>Accept</td>\n",
              "      <td>4402</td>\n",
              "      <td>2020-03-24 12:23:29</td>\n",
              "      <td>312</td>\n",
              "      <td>Indigo</td>\n",
              "    </tr>\n",
              "    <tr>\n",
              "      <th>1048562</th>\n",
              "      <td>1</td>\n",
              "      <td>0312149695_0297SC</td>\n",
              "      <td>2020-03-24 12:23:47</td>\n",
              "      <td>Accept</td>\n",
              "      <td>34243.0</td>\n",
              "      <td>2020-03-24 12:23:58</td>\n",
              "      <td>-</td>\n",
              "      <td>-</td>\n",
              "      <td>NaT</td>\n",
              "      <td>312</td>\n",
              "      <td>Indigo</td>\n",
              "    </tr>\n",
              "    <tr>\n",
              "      <th>1048563</th>\n",
              "      <td>1</td>\n",
              "      <td>0312149966_0312SC</td>\n",
              "      <td>2020-03-24 12:26:27</td>\n",
              "      <td>Accept</td>\n",
              "      <td>34243.0</td>\n",
              "      <td>2020-03-24 12:26:39</td>\n",
              "      <td>-</td>\n",
              "      <td>-</td>\n",
              "      <td>NaT</td>\n",
              "      <td>312</td>\n",
              "      <td>Indigo</td>\n",
              "    </tr>\n",
              "    <tr>\n",
              "      <th>1048564</th>\n",
              "      <td>1</td>\n",
              "      <td>0000235115_0313SC</td>\n",
              "      <td>2020-03-24 12:26:46</td>\n",
              "      <td>Accept</td>\n",
              "      <td>32797.0</td>\n",
              "      <td>2020-03-24 12:27:00</td>\n",
              "      <td>-</td>\n",
              "      <td>-</td>\n",
              "      <td>NaT</td>\n",
              "      <td>000</td>\n",
              "      <td>MVXR</td>\n",
              "    </tr>\n",
              "    <tr>\n",
              "      <th>1048565</th>\n",
              "      <td>1</td>\n",
              "      <td>0312149987_0314SC</td>\n",
              "      <td>2020-03-24 12:26:55</td>\n",
              "      <td>Accept</td>\n",
              "      <td>34243.0</td>\n",
              "      <td>2020-03-24 12:27:08</td>\n",
              "      <td>-</td>\n",
              "      <td>-</td>\n",
              "      <td>NaT</td>\n",
              "      <td>312</td>\n",
              "      <td>Indigo</td>\n",
              "    </tr>\n",
              "    <tr>\n",
              "      <th>1048566</th>\n",
              "      <td>3</td>\n",
              "      <td>0807849002_0602SE</td>\n",
              "      <td>2020-03-24 12:27:18</td>\n",
              "      <td>Reject</td>\n",
              "      <td>32797.0</td>\n",
              "      <td>2020-03-24 12:27:31</td>\n",
              "      <td>Accept</td>\n",
              "      <td>32661</td>\n",
              "      <td>2020-03-24 12:27:53</td>\n",
              "      <td>807</td>\n",
              "      <td>Air Asia</td>\n",
              "    </tr>\n",
              "    <tr>\n",
              "      <th>1048567</th>\n",
              "      <td>1</td>\n",
              "      <td>0312150163_0328SC</td>\n",
              "      <td>2020-03-24 12:30:08</td>\n",
              "      <td>Accept</td>\n",
              "      <td>34243.0</td>\n",
              "      <td>2020-03-24 12:30:30</td>\n",
              "      <td>-</td>\n",
              "      <td>-</td>\n",
              "      <td>NaT</td>\n",
              "      <td>312</td>\n",
              "      <td>Indigo</td>\n",
              "    </tr>\n",
              "    <tr>\n",
              "      <th>1048568</th>\n",
              "      <td>1</td>\n",
              "      <td>0777523309_0330SC</td>\n",
              "      <td>2020-03-24 12:30:16</td>\n",
              "      <td>Accept</td>\n",
              "      <td>32797.0</td>\n",
              "      <td>2020-03-24 12:30:34</td>\n",
              "      <td>-</td>\n",
              "      <td>-</td>\n",
              "      <td>NaT</td>\n",
              "      <td>777</td>\n",
              "      <td>Air Toronto</td>\n",
              "    </tr>\n",
              "    <tr>\n",
              "      <th>1048569</th>\n",
              "      <td>1</td>\n",
              "      <td>0312150214_0331SC</td>\n",
              "      <td>2020-03-24 12:30:48</td>\n",
              "      <td>Accept</td>\n",
              "      <td>34243.0</td>\n",
              "      <td>2020-03-24 12:31:02</td>\n",
              "      <td>-</td>\n",
              "      <td>-</td>\n",
              "      <td>NaT</td>\n",
              "      <td>312</td>\n",
              "      <td>Indigo</td>\n",
              "    </tr>\n",
              "    <tr>\n",
              "      <th>1048570</th>\n",
              "      <td>1</td>\n",
              "      <td>0312150213_0332SC</td>\n",
              "      <td>2020-03-24 12:30:51</td>\n",
              "      <td>Accept</td>\n",
              "      <td>32797.0</td>\n",
              "      <td>2020-03-24 12:31:11</td>\n",
              "      <td>-</td>\n",
              "      <td>-</td>\n",
              "      <td>NaT</td>\n",
              "      <td>312</td>\n",
              "      <td>Indigo</td>\n",
              "    </tr>\n",
              "    <tr>\n",
              "      <th>1048571</th>\n",
              "      <td>1</td>\n",
              "      <td>0777523317_0349SC</td>\n",
              "      <td>2020-03-24 12:35:19</td>\n",
              "      <td>Accept</td>\n",
              "      <td>36548.0</td>\n",
              "      <td>2020-03-24 12:35:35</td>\n",
              "      <td>-</td>\n",
              "      <td>-</td>\n",
              "      <td>NaT</td>\n",
              "      <td>777</td>\n",
              "      <td>Air Toronto</td>\n",
              "    </tr>\n",
              "    <tr>\n",
              "      <th>1048572</th>\n",
              "      <td>1</td>\n",
              "      <td>0312150421_0350SC</td>\n",
              "      <td>2020-03-24 12:35:22</td>\n",
              "      <td>Accept</td>\n",
              "      <td>34243.0</td>\n",
              "      <td>2020-03-24 12:35:47</td>\n",
              "      <td>-</td>\n",
              "      <td>-</td>\n",
              "      <td>NaT</td>\n",
              "      <td>312</td>\n",
              "      <td>Indigo</td>\n",
              "    </tr>\n",
              "    <tr>\n",
              "      <th>1048573</th>\n",
              "      <td>1</td>\n",
              "      <td>0312150367_0352SC</td>\n",
              "      <td>2020-03-24 12:35:42</td>\n",
              "      <td>Reject</td>\n",
              "      <td>32797.0</td>\n",
              "      <td>2020-03-24 12:35:55</td>\n",
              "      <td>Reject</td>\n",
              "      <td>4402</td>\n",
              "      <td>2020-03-24 12:36:32</td>\n",
              "      <td>312</td>\n",
              "      <td>Indigo</td>\n",
              "    </tr>\n",
              "  </tbody>\n",
              "</table>\n",
              "</div>"
            ],
            "text/plain": [
              "         MVXR              BHSID  ... BHSID_prefix Airlines_names\n",
              "1048554     2  0312232948_0513SD  ...          312         Indigo\n",
              "1048555     2  0312232949_0512SD  ...          312         Indigo\n",
              "1048556     4  0807786102_0568SF  ...          807       Air Asia\n",
              "1048557     2  0000569139_0515SD  ...          000           MVXR\n",
              "1048558     2  0312185873_0521SD  ...          312         Indigo\n",
              "1048559     4  0807786311_0576SF  ...          807       Air Asia\n",
              "1048560     2  0000569147_0523SD  ...          000           MVXR\n",
              "1048561     1  0312149748_0296SC  ...          312         Indigo\n",
              "1048562     1  0312149695_0297SC  ...          312         Indigo\n",
              "1048563     1  0312149966_0312SC  ...          312         Indigo\n",
              "1048564     1  0000235115_0313SC  ...          000           MVXR\n",
              "1048565     1  0312149987_0314SC  ...          312         Indigo\n",
              "1048566     3  0807849002_0602SE  ...          807       Air Asia\n",
              "1048567     1  0312150163_0328SC  ...          312         Indigo\n",
              "1048568     1  0777523309_0330SC  ...          777    Air Toronto\n",
              "1048569     1  0312150214_0331SC  ...          312         Indigo\n",
              "1048570     1  0312150213_0332SC  ...          312         Indigo\n",
              "1048571     1  0777523317_0349SC  ...          777    Air Toronto\n",
              "1048572     1  0312150421_0350SC  ...          312         Indigo\n",
              "1048573     1  0312150367_0352SC  ...          312         Indigo\n",
              "\n",
              "[20 rows x 11 columns]"
            ]
          },
          "metadata": {
            "tags": []
          },
          "execution_count": 20
        }
      ]
    },
    {
      "cell_type": "code",
      "metadata": {
        "id": "vYhgXXFkeIMp",
        "colab": {
          "base_uri": "https://localhost:8080/",
          "height": 295
        },
        "outputId": "93b5cc0f-36a8-4aa4-ff60-c64d3eb72376"
      },
      "source": [
        "data.describe()#display about the data"
      ],
      "execution_count": null,
      "outputs": [
        {
          "output_type": "execute_result",
          "data": {
            "text/html": [
              "<div>\n",
              "<style scoped>\n",
              "    .dataframe tbody tr th:only-of-type {\n",
              "        vertical-align: middle;\n",
              "    }\n",
              "\n",
              "    .dataframe tbody tr th {\n",
              "        vertical-align: top;\n",
              "    }\n",
              "\n",
              "    .dataframe thead th {\n",
              "        text-align: right;\n",
              "    }\n",
              "</style>\n",
              "<table border=\"1\" class=\"dataframe\">\n",
              "  <thead>\n",
              "    <tr style=\"text-align: right;\">\n",
              "      <th></th>\n",
              "      <th>MVXR</th>\n",
              "      <th>L2LoginID</th>\n",
              "    </tr>\n",
              "  </thead>\n",
              "  <tbody>\n",
              "    <tr>\n",
              "      <th>count</th>\n",
              "      <td>1.048574e+06</td>\n",
              "      <td>1.015291e+06</td>\n",
              "    </tr>\n",
              "    <tr>\n",
              "      <th>mean</th>\n",
              "      <td>2.506897e+00</td>\n",
              "      <td>2.697822e+04</td>\n",
              "    </tr>\n",
              "    <tr>\n",
              "      <th>std</th>\n",
              "      <td>9.723181e-01</td>\n",
              "      <td>1.259051e+04</td>\n",
              "    </tr>\n",
              "    <tr>\n",
              "      <th>min</th>\n",
              "      <td>1.000000e+00</td>\n",
              "      <td>1.805000e+03</td>\n",
              "    </tr>\n",
              "    <tr>\n",
              "      <th>25%</th>\n",
              "      <td>2.000000e+00</td>\n",
              "      <td>3.092100e+04</td>\n",
              "    </tr>\n",
              "    <tr>\n",
              "      <th>50%</th>\n",
              "      <td>2.000000e+00</td>\n",
              "      <td>3.264400e+04</td>\n",
              "    </tr>\n",
              "    <tr>\n",
              "      <th>75%</th>\n",
              "      <td>3.000000e+00</td>\n",
              "      <td>3.287800e+04</td>\n",
              "    </tr>\n",
              "    <tr>\n",
              "      <th>max</th>\n",
              "      <td>4.000000e+00</td>\n",
              "      <td>7.520400e+04</td>\n",
              "    </tr>\n",
              "  </tbody>\n",
              "</table>\n",
              "</div>"
            ],
            "text/plain": [
              "               MVXR     L2LoginID\n",
              "count  1.048574e+06  1.015291e+06\n",
              "mean   2.506897e+00  2.697822e+04\n",
              "std    9.723181e-01  1.259051e+04\n",
              "min    1.000000e+00  1.805000e+03\n",
              "25%    2.000000e+00  3.092100e+04\n",
              "50%    2.000000e+00  3.264400e+04\n",
              "75%    3.000000e+00  3.287800e+04\n",
              "max    4.000000e+00  7.520400e+04"
            ]
          },
          "metadata": {
            "tags": []
          },
          "execution_count": 9
        }
      ]
    },
    {
      "cell_type": "markdown",
      "metadata": {
        "id": "8Q_QSlWlez_L"
      },
      "source": [
        "Removing spaces from column names"
      ]
    },
    {
      "cell_type": "markdown",
      "metadata": {
        "id": "jr_DeBXGe6lY"
      },
      "source": [
        "checking na values in data"
      ]
    },
    {
      "cell_type": "code",
      "metadata": {
        "id": "5epRykDiePUd",
        "colab": {
          "base_uri": "https://localhost:8080/"
        },
        "outputId": "60487b8d-3e81-4e2e-c687-0254572ad0a4"
      },
      "source": [
        "data.isna().sum()"
      ],
      "execution_count": null,
      "outputs": [
        {
          "output_type": "execute_result",
          "data": {
            "text/plain": [
              "MVXR                  0\n",
              "BHSID                 6\n",
              "Level1Decision        0\n",
              "L2Decision            0\n",
              "L2LoginID         33283\n",
              "L2DecisionTime        0\n",
              "L3Decision            0\n",
              "L3LoginID          1798\n",
              "L3DecisionTime        0\n",
              "dtype: int64"
            ]
          },
          "metadata": {
            "tags": []
          },
          "execution_count": 10
        }
      ]
    },
    {
      "cell_type": "markdown",
      "metadata": {
        "id": "F4VILI33fAXt"
      },
      "source": [
        "Dropping na values from BHSID"
      ]
    },
    {
      "cell_type": "code",
      "metadata": {
        "id": "jvJWX6j_eTYF"
      },
      "source": [
        "data=data.dropna(subset=[\"BHSID\"])"
      ],
      "execution_count": null,
      "outputs": []
    },
    {
      "cell_type": "code",
      "metadata": {
        "id": "njFTqwESeXan",
        "colab": {
          "base_uri": "https://localhost:8080/"
        },
        "outputId": "2b530420-a429-4799-8268-af4db8f1d231"
      },
      "source": [
        "data.info()"
      ],
      "execution_count": null,
      "outputs": [
        {
          "output_type": "stream",
          "text": [
            "<class 'pandas.core.frame.DataFrame'>\n",
            "Int64Index: 1048568 entries, 0 to 1048573\n",
            "Data columns (total 9 columns):\n",
            " #   Column          Non-Null Count    Dtype         \n",
            "---  ------          --------------    -----         \n",
            " 0   MVXR            1048568 non-null  int64         \n",
            " 1   BHSID           1048568 non-null  object        \n",
            " 2   Level1Decision  1048568 non-null  datetime64[ns]\n",
            " 3   L2Decision      1048568 non-null  object        \n",
            " 4   L2LoginID       1015285 non-null  float64       \n",
            " 5   L2DecisionTime  1048568 non-null  datetime64[ns]\n",
            " 6   L3Decision      1048568 non-null  object        \n",
            " 7   L3LoginID       1046770 non-null  object        \n",
            " 8   L3DecisionTime  235833 non-null   datetime64[ns]\n",
            "dtypes: datetime64[ns](3), float64(1), int64(1), object(4)\n",
            "memory usage: 80.0+ MB\n"
          ],
          "name": "stdout"
        }
      ]
    },
    {
      "cell_type": "markdown",
      "metadata": {
        "id": "6GEHv51OfEeS"
      },
      "source": [
        "Converting object format to datetime format"
      ]
    },
    {
      "cell_type": "code",
      "metadata": {
        "id": "sebWyOpDHSrM"
      },
      "source": [
        "\n",
        "data[\"Level1Decision\"]=pd.to_datetime(data[\"Level1Decision\"])\n",
        "data[\"L2DecisionTime\"]=pd.to_datetime(data[\"L2DecisionTime\"])\n",
        "\n",
        "data[\"L3DecisionTime\"]=pd.to_datetime(data[\"L3DecisionTime\"],errors='coerce')"
      ],
      "execution_count": null,
      "outputs": []
    },
    {
      "cell_type": "markdown",
      "metadata": {
        "id": "cx9e1xprfLZs"
      },
      "source": [
        "created a dictionary of codes and related airlines names"
      ]
    },
    {
      "cell_type": "code",
      "metadata": {
        "id": "Hs1YjC0enoFY"
      },
      "source": [
        "airways = {'001': 'American Airlines',\n",
        " '002': 'CargoItalia (alternate)',\n",
        " '005': 'Continental Airlines',\n",
        " '006': 'Delta Air Lines',\n",
        " '012': 'Northwest Airlines (alternate site)',\n",
        " '014': 'Air Canada',\n",
        " '016': 'United Airlines Cargo',\n",
        " '018': 'Canadian Airlines Int´l',\n",
        " '020': 'Lufthansa Cargo AG',\n",
        " '023': 'Fedex',\n",
        " '027': 'Alaska Airlines',\n",
        " '037': 'USAirways',\n",
        " '042': 'VARIG Brazilian Airlines',\n",
        " '043': 'Dragonair',\n",
        " '045': 'LAN Chile',\n",
        " '047': 'TAP Air Portugal',\n",
        " '048': 'Cyprus Airways',\n",
        " '050': 'Olympic Airways',\n",
        " '053': 'Aer Lingus Cargo',\n",
        " '055': 'Alitalia',\n",
        " '057': 'Air France',\n",
        " '058': 'Indian Airlines',\n",
        " '061': 'Air Seychelles',\n",
        " '064': 'Czech Airlines',\n",
        " '065': 'Saudi Arabian Airlines',\n",
        " '070': 'Syrian Arab Airlines',\n",
        " '071': 'Ethiopian Airlines',\n",
        " '072': 'Gulf Air',\n",
        " '074': 'KLM Cargo',\n",
        " '075': 'Iberia',\n",
        " '076': 'Middle East Airlines',\n",
        " '077': 'Egyptair',\n",
        " '079': 'Philippine Airlines',\n",
        " '080': 'LOT Polish Airlines',\n",
        " '081': 'Qantas Airways',\n",
        " '082': 'Brussels Airlines',\n",
        " '083': 'South African Airways',\n",
        " '086': 'Air New Zealand',\n",
        " '090': 'Kingfisher Airlines',\n",
        " '093': 'KD Avia',\n",
        " '096': 'Iran Air',\n",
        " '098': 'Air India',\n",
        " '105': 'Finnair',\n",
        " '106': 'Caribbean Airlines',\n",
        " '108': 'Icelandair',\n",
        " '112': 'China Cargo Airlines',\n",
        " '114': 'EL AL',\n",
        " '115': 'JAT Airways',\n",
        " '117': 'SAS-Scandinavian Airlines System',\n",
        " '118': 'TAAG Angola Airlines',\n",
        " '119': 'Air ALM',\n",
        " '124': 'Air Algerie',\n",
        " '125': 'British Airways',\n",
        " '126': 'Garuda Indonesia',\n",
        " '129': 'Martinair Cargo',\n",
        " '131': 'Japan Airlines',\n",
        " '133': 'LACSA Airlines of Costa Rica',\n",
        " '139': 'Aeromexico Cargo',\n",
        " '140': 'LIAT Airlines',\n",
        " '147': 'Royal Air Maroc',\n",
        " '148': 'Libyan Airlines',\n",
        " '157': 'Qatar Airways',\n",
        " '160': 'Cathay Pacific Airways',\n",
        " '163': 'TNT Airways',\n",
        " '165': 'Adria Airways',\n",
        " '172': 'Cargolux Airlines',\n",
        " '176': 'Emirates',\n",
        " '180': 'Korean Air',\n",
        " '182': 'Malev Hungarian Airlines',\n",
        " '183': 'VARIG Brazilian Airlines',\n",
        " '189': 'Jade Cargo International',\n",
        " '201': 'Air Jamaica',\n",
        " '202': 'TACA',\n",
        " '205': 'ANA All Nippon Cargo',\n",
        " '214': 'Pakistan Int´l Airlines',\n",
        " '217': 'Thai Airways',\n",
        " '229': 'Kuwait Airways',\n",
        " '230': 'Copa Airlines Cargo',\n",
        " '231': 'Lauda Air',\n",
        " '232': 'Homepage',\n",
        " '234': 'Japan Air System',\n",
        " '235': 'Turkish Airlines',\n",
        " '236': 'British Midland Airways',\n",
        " '239': 'Air Mauritius',\n",
        " '257': 'Austrian Cargo',\n",
        " '258': 'Air Madagascar',\n",
        " '265': 'Far Eastern Air Transport',\n",
        " '266': 'LTU (Leisure Cargo)',\n",
        " '270': 'Trans Mediterranean Airways',\n",
        " '272': 'Kalitta Air',\n",
        " '288': 'Air Hong Kong',\n",
        " '297': 'China Airlines',\n",
        " '301': 'Global Aviation and Services',\n",
        " '302': 'Sky West Airlines',\n",
        " '307': 'Centurion Air Cargo',\n",
        " '312': 'Indigo',        \n",
        " '324': 'Shandong Airlines (Chinese)',\n",
        " '330': 'Florida West International Airways',\n",
        " '345': 'Northern Air Cargo',\n",
        " '356': 'Cargolux Italia',\n",
        " '369': 'Atlas Air',\n",
        " '378': 'Cayman Airways',\n",
        " '390': 'Aegean Airlines',\n",
        " '403': 'Polar Air Cargo',\n",
        " '404': 'Arrow Air',\n",
        " '406': 'UPS Air Cargo',\n",
        " '416': 'National Air Cargo',\n",
        " '421': 'Siberia Airlines',\n",
        " '423': 'DHL Aviation/DHL Airways',\n",
        " '465': 'Air Astana',\n",
        " '479': 'Shenzhen Airlines (Chinese)',\n",
        " '507': 'Aeroflot',\n",
        " '512': 'Royal Jordanian',\n",
        " '526': 'Southwest Airlines',\n",
        " '529': 'Cielos Airlines',\n",
        " '549': 'ABSA Aerolinhas Brasileiras',\n",
        " '552': 'Mario’s Air',\n",
        " '564': 'Sun Express',\n",
        " '566': 'Ukraine Int´l Airlines',\n",
        " '572': 'Air Moldova',\n",
        " '575': 'Coyne Airways',\n",
        " '580': 'AirBridge Cargo',\n",
        " '589': 'Jet Airways',\n",
        " '603': 'more AWB tracking',\n",
        " '604': 'Cameroon Airlines',\n",
        " '607': 'ETIHAD Airways',\n",
        " '615': 'DHL Aviation / European Air Transport',\n",
        " '618': 'Singapore Airlines',\n",
        " '623': 'Bulgaria Air',\n",
        " '631': 'Air Greenland',\n",
        " '635': 'Yemenia Yemen Airways',\n",
        " '643': 'Air Malta',\n",
        " '656': 'Air Niugini',\n",
        " '657': 'Air Baltic',\n",
        " '672': 'Royal Brunei Airlines',\n",
        " '675': 'Air Macau',\n",
        " '695': 'Eva Airways',\n",
        " '700': 'CAL Cargo Air Lines',\n",
        " '706': 'Kenya Airways',\n",
        " '716': 'MNG Airlines',\n",
        " '724': 'Swiss',\n",
        " '729': 'Tampa Airlines',\n",
        " '731': 'Xiamen Airlines',\n",
        " '737': 'SATA Air Acores',\n",
        " '738': 'Vietnam Airlines',\n",
        " '757': 'Avient',\n",
        " '771': 'Azerbaijan Airlines',\n",
        " '774': 'Shanghai Airlines',\n",
        " '781': 'China Eastern Airlines',\n",
        " '784': 'China Southern Airlines',\n",
        " '800': 'Grandstar Cargo',\n",
        " '803': 'Mandarin Airlines',\n",
        " '810': 'Amerijet International',\n",
        " '817': 'SAC South American Airways',\n",
        " '825': 'Shanghai Airlines Cargo',\n",
        " '831': 'Croatia Airlines',\n",
        " '851': 'Hong Kong Airlines',\n",
        " '858': 'Africa West',\n",
        " '862': 'Atlantic Southeast Airlines',\n",
        " '865': 'MASAir',\n",
        " '870': 'Aerosvit',\n",
        " '871': 'Yangtze River Express Airlines',\n",
        " '873': 'AeroUnion',\n",
        " '876': 'Sichuan Airlines',\n",
        " '880': 'Hainan Airlines (Chinese)',\n",
        " '881': 'Condor Flugdienst',\n",
        " '886': 'Comair',\n",
        " '901': 'TAB Cargo',\n",
        " '907': 'Air Armenia',\n",
        " '928': 'Buraq Air Transport (Arabic only)',\n",
        " '932': 'Virgin Atlantic',\n",
        " '933': 'Nippon Cargo Airlines',\n",
        " '957': 'TAM Brazilian Airlines',\n",
        " '958': 'Insel Air Cargo',\n",
        " '960': 'Estonian Air',\n",
        " '976': 'Aeromexpress Cargo',\n",
        " '988': 'Asiana Airlines',\n",
        " '989': 'Great Wall Airlines',\n",
        " '996': 'Air Europa Cargo',\n",
        " '997': 'Biman Bangladesh',\n",
        " '999': 'Air China',\n",
        " '775': 'SpiceJet',\n",
        " '879': 'GoAir',\n",
        " '228': 'Vistara',\n",
        " '668': 'Tiger Airways',\n",
        " '100': 'TruJet',\n",
        " '514': 'Air Arabia',\n",
        " '910': 'Oman Air',\n",
        " '141': 'FlyDubai',\n",
        " '705': 'Jet Lite',\n",
        " '629': 'Silk Air',\n",
        " '807': 'Air Asia',\n",
        " '319': 'Expo Aviation',\n",
        " '279': 'JetBlue Airways',\n",
        " '555': 'Aeroflot',\n",
        " '128': 'Hong Kong Express',\n",
        " '790': 'Leaderjet',\n",
        " '030': 'Air Togo',\n",
        " '511': 'Yamal Airlines',\n",
        " '188': 'Air Alliance Inc',\n",
        " '652': 'Islandsflug',\n",
        " '041': 'Jetstar',\n",
        " '555': 'Aeroflot Russian Airlines',\n",
        " '909': 'Transwest Air',\n",
        " '337': 'Sun County Airlines',\n",
        " '412': 'Volga Dnepr Airlines',\n",
        " '352': 'Air Comet',\n",
        " '179' : 'Aztec Worldwide Airlines Inc.',\n",
        "'220' : 'Lufthansa ',\n",
        "'222' : 'InterSky',\n",
        "'250' : 'Uzbekistan Airways',\n",
        "'260' : 'Fiji Airways',\n",
        "'284' : 'Thai Air Cargo',\n",
        "'285' : 'Royal Nepal Airlines',\n",
        "'311' : 'Alajnihah Air Transport' ,\n",
        "'316' : 'JSC Nordavia - RA',\n",
        "'317' : 'Alliance Airlines',\n",
        "'327' : 'Aloha Airline',\n",
        "'357' : 'Business Express',\n",
        "'382' : 'Transarca International Airways',\n",
        "'386' : 'Air Aurora',\n",
        "'388' : 'Pan American World Airways',\n",
        "'446' : 'Allied Airlines',\n",
        "'459' : 'Rwandair Express',\n",
        "'486' : 'Jazeera Airways',\n",
        "'523' : 'Travelport**',\n",
        "'612' : 'TUI Airlines',\n",
        "'712' : 'Volotea SL',\n",
        "'755' : 'AIR Rarotonga',\n",
        "'777' : 'Air Toronto',\n",
        "'786' : 'Virgin Nigeria Airways',\n",
        "'787' : 'Druk Air',\n",
        "'816' : 'Malindo Airways',\n",
        "'000' : 'MVXR',\n",
        "'322' : 'Airport',\n",
        "'314' : 'Airport1',\n",
        "'313' : 'Airport2',\n",
        "'387' : 'Airport3',\n",
        "'028' : 'Airport4',\n",
        "}"
      ],
      "execution_count": null,
      "outputs": []
    },
    {
      "cell_type": "markdown",
      "metadata": {
        "id": "ir-RJteCfTkx"
      },
      "source": [
        "slicing BHSID string to code for mapping airlines"
      ]
    },
    {
      "cell_type": "code",
      "metadata": {
        "id": "eCM4FaZEoDzm"
      },
      "source": [
        "data[\"BHSID_prefix\"]=data[\"BHSID\"].str.slice(1,4)\n",
        "\n",
        "data['Airlines_names'] = data['BHSID_prefix'].map(airways)\n"
      ],
      "execution_count": null,
      "outputs": []
    },
    {
      "cell_type": "markdown",
      "metadata": {
        "id": "LHr_YFbYfpSM"
      },
      "source": [
        "Plotting the top airlines which have bags loaded"
      ]
    },
    {
      "cell_type": "code",
      "metadata": {
        "id": "FyykPosnfxyr",
        "colab": {
          "base_uri": "https://localhost:8080/",
          "height": 298
        },
        "outputId": "8dd8896c-189e-45b9-9b15-ad7c26d4984f"
      },
      "source": [
        "sns.countplot(x=\"Airlines_names\",data=data,order=pd.value_counts(data[\"Airlines_names\"]).iloc[:5].index)"
      ],
      "execution_count": null,
      "outputs": [
        {
          "output_type": "execute_result",
          "data": {
            "text/plain": [
              "<matplotlib.axes._subplots.AxesSubplot at 0x7f7c394fe290>"
            ]
          },
          "metadata": {
            "tags": []
          },
          "execution_count": 21
        },
        {
          "output_type": "display_data",
          "data": {
            "image/png": "[encoded data removed]",
            "text/plain": [
              "<Figure size 432x288 with 1 Axes>"
            ]
          },
          "metadata": {
            "tags": [],
            "needs_background": "light"
          }
        }
      ]
    },
    {
      "cell_type": "markdown",
      "metadata": {
        "id": "EdY-Tfttf1HN"
      },
      "source": [
        "Creating L2 operator dataframe\n",
        "\n",
        "1.   Created L2 operator dataframe by dropping unrelevent columns\n",
        "2.   Subtracting L1 decision from l2 decision time\n",
        "3.   Converted to time in secs\n",
        "4.   Dropped negative time \n",
        "5.   Dropped default reject in L2 Decision\n",
        "6.   List item\n",
        "\n",
        "\n",
        "\n",
        "\n",
        "\n",
        "\n"
      ]
    },
    {
      "cell_type": "code",
      "metadata": {
        "id": "-3GBk7p7YIrM"
      },
      "source": [
        "l2_operator=data.drop([\"MVXR\",\"BHSID\",\"BHSID_prefix\",\"Airlines_names\",\"L3Decision\",\"L3LoginID\",\"L3DecisionTime\"],axis=1)#dropped all these columns\n",
        "\n",
        "l2_operator[\"timediff1\"]=l2_operator[\"L2DecisionTime\"]-l2_operator[\"Level1Decision\"]#subtracting L2Decision time from Level1Decisio\n",
        "l2_operator[\"timesecs1\"]=l2_operator[\"timediff1\"]/np.timedelta64(1,'s')#Converting into secs from timedelta to int format\n"
      ],
      "execution_count": null,
      "outputs": []
    },
    {
      "cell_type": "code",
      "metadata": {
        "colab": {
          "base_uri": "https://localhost:8080/",
          "height": 203
        },
        "id": "q0G4paxjYNKW",
        "outputId": "20207b60-fdd1-47aa-aca0-5c1bb436bedf"
      },
      "source": [
        "\n",
        "l2_operator.head()"
      ],
      "execution_count": null,
      "outputs": [
        {
          "output_type": "execute_result",
          "data": {
            "text/html": [
              "<div>\n",
              "<style scoped>\n",
              "    .dataframe tbody tr th:only-of-type {\n",
              "        vertical-align: middle;\n",
              "    }\n",
              "\n",
              "    .dataframe tbody tr th {\n",
              "        vertical-align: top;\n",
              "    }\n",
              "\n",
              "    .dataframe thead th {\n",
              "        text-align: right;\n",
              "    }\n",
              "</style>\n",
              "<table border=\"1\" class=\"dataframe\">\n",
              "  <thead>\n",
              "    <tr style=\"text-align: right;\">\n",
              "      <th></th>\n",
              "      <th>L2Decision</th>\n",
              "      <th>L2LoginID</th>\n",
              "      <th>timesecs1</th>\n",
              "      <th>performance</th>\n",
              "    </tr>\n",
              "  </thead>\n",
              "  <tbody>\n",
              "    <tr>\n",
              "      <th>0</th>\n",
              "      <td>Time out</td>\n",
              "      <td>32661.0</td>\n",
              "      <td>27.0</td>\n",
              "      <td>Bad</td>\n",
              "    </tr>\n",
              "    <tr>\n",
              "      <th>1</th>\n",
              "      <td>Accept</td>\n",
              "      <td>32661.0</td>\n",
              "      <td>13.0</td>\n",
              "      <td>Good</td>\n",
              "    </tr>\n",
              "    <tr>\n",
              "      <th>2</th>\n",
              "      <td>Accept</td>\n",
              "      <td>32153.0</td>\n",
              "      <td>5.0</td>\n",
              "      <td>Excellent</td>\n",
              "    </tr>\n",
              "    <tr>\n",
              "      <th>3</th>\n",
              "      <td>Accept</td>\n",
              "      <td>32153.0</td>\n",
              "      <td>11.0</td>\n",
              "      <td>Good</td>\n",
              "    </tr>\n",
              "    <tr>\n",
              "      <th>4</th>\n",
              "      <td>Accept</td>\n",
              "      <td>32153.0</td>\n",
              "      <td>5.0</td>\n",
              "      <td>Excellent</td>\n",
              "    </tr>\n",
              "  </tbody>\n",
              "</table>\n",
              "</div>"
            ],
            "text/plain": [
              "  L2Decision  L2LoginID  timesecs1 performance\n",
              "0   Time out    32661.0       27.0         Bad\n",
              "1     Accept    32661.0       13.0        Good\n",
              "2     Accept    32153.0        5.0   Excellent\n",
              "3     Accept    32153.0       11.0        Good\n",
              "4     Accept    32153.0        5.0   Excellent"
            ]
          },
          "metadata": {
            "tags": []
          },
          "execution_count": 34
        }
      ]
    },
    {
      "cell_type": "code",
      "metadata": {
        "colab": {
          "base_uri": "https://localhost:8080/"
        },
        "id": "SYfsPG_lYbA6",
        "outputId": "31568ce1-6a30-4527-9994-046df42e2538"
      },
      "source": [
        "l2_operator.isna().sum()"
      ],
      "execution_count": null,
      "outputs": [
        {
          "output_type": "execute_result",
          "data": {
            "text/plain": [
              "Level1Decision        0\n",
              "L2Decision            0\n",
              "L2LoginID         33283\n",
              "L2DecisionTime        0\n",
              "timediff1             0\n",
              "timesecs1             0\n",
              "dtype: int64"
            ]
          },
          "metadata": {
            "tags": []
          },
          "execution_count": 24
        }
      ]
    },
    {
      "cell_type": "code",
      "metadata": {
        "colab": {
          "base_uri": "https://localhost:8080/"
        },
        "id": "C-6_QSvSYlus",
        "outputId": "45d3c1aa-1447-4d0c-9510-40526a636461"
      },
      "source": [
        "l2_operator[\"timesecs1\"].nsmallest()#)#display the smallest vlues"
      ],
      "execution_count": null,
      "outputs": [
        {
          "output_type": "execute_result",
          "data": {
            "text/plain": [
              "4643    0.0\n",
              "4644    0.0\n",
              "4773    0.0\n",
              "4774    0.0\n",
              "4775    0.0\n",
              "Name: timesecs1, dtype: float64"
            ]
          },
          "metadata": {
            "tags": []
          },
          "execution_count": 27
        }
      ]
    },
    {
      "cell_type": "code",
      "metadata": {
        "id": "IQHGdBzGYvau"
      },
      "source": [
        "l2_operator=l2_operator.drop(1001241)#)##dropped the negative row values\n"
      ],
      "execution_count": null,
      "outputs": []
    },
    {
      "cell_type": "code",
      "metadata": {
        "colab": {
          "base_uri": "https://localhost:8080/",
          "height": 913
        },
        "id": "uTw7VJM_n4E9",
        "outputId": "785245b3-0bb6-455c-ccf9-68062a3bb2b4"
      },
      "source": [
        "\n",
        "sns.boxplot(data=l2_operator,x=\"L2Decision\",y=\"timesecs1\")#ploteed for timesec\n",
        "\n",
        "l2_operator=l2_operator[~(l2_operator[\"L2Decision\"].str.contains(\"Default Reject\"))]\n",
        "\n",
        "\n",
        "l2_operator=l2_operator[~((l2_operator[\"L2Decision\"].str.contains(\"Accept\")) & (l2_operator.timesecs1>25))]#checking operatorl2 performanceis accepted in  less than 25 sec\n",
        "\n",
        "l2_operator=l2_operator[~((l2_operator[\"L2Decision\"].str.contains(\"Reject\")) & (l2_operator.timesecs1>25))]#checking operatorl2 performanceis rejected in  less than 25 sec\n",
        "\n",
        "l2_operator=l2_operator[~((l2_operator.L2Decision.str.contains(\"Time out\"))& (l2_operator.timesecs1<=25))]#checking operatorl2 performanceis timeout in  less than 25 sec\n",
        "\n",
        "\n",
        "l2_operator[\"timesecs1\"].value_counts()#count the no of sec of bags loaded\n"
      ],
      "execution_count": null,
      "outputs": [
        {
          "output_type": "execute_result",
          "data": {
            "text/plain": [
              "9.0     50238\n",
              "8.0     49717\n",
              "10.0    49483\n",
              "7.0     48626\n",
              "11.0    48141\n",
              "12.0    46741\n",
              "6.0     46458\n",
              "13.0    44667\n",
              "14.0    42778\n",
              "5.0     41489\n",
              "15.0    40928\n",
              "16.0    39327\n",
              "17.0    37738\n",
              "18.0    36508\n",
              "19.0    35114\n",
              "22.0    34596\n",
              "20.0    34570\n",
              "24.0    34507\n",
              "23.0    34490\n",
              "4.0     34301\n",
              "21.0    34163\n",
              "25.0    33753\n",
              "3.0     18552\n",
              "27.0    15207\n",
              "28.0     6080\n",
              "2.0      3128\n",
              "26.0     1134\n",
              "1.0        88\n",
              "29.0       21\n",
              "31.0        2\n",
              "58.0        1\n",
              "68.0        1\n",
              "36.0        1\n",
              "34.0        1\n",
              "53.0        1\n",
              "Name: timesecs1, dtype: int64"
            ]
          },
          "metadata": {
            "tags": []
          },
          "execution_count": 30
        },
        {
          "output_type": "display_data",
          "data": {
            "image/png": "[encoded data removed]",
            "text/plain": [
              "<Figure size 432x288 with 1 Axes>"
            ]
          },
          "metadata": {
            "tags": [],
            "needs_background": "light"
          }
        }
      ]
    },
    {
      "cell_type": "code",
      "metadata": {
        "colab": {
          "base_uri": "https://localhost:8080/"
        },
        "id": "r-ASHFAMZIGd",
        "outputId": "39ee81ab-8c76-4128-e4c1-ab89b60132e3"
      },
      "source": [
        "bin_labels=[\"Excellent\",\"Good\",\"Normal\",\"Bad\"]#creating bin labels\n",
        "\n",
        "l2_operator.loc[(~l2_operator[\"L2Decision\"].str.contains(\"Time out\"))&(l2_operator[\"timesecs1\"]>=0) & (l2_operator[\"timesecs1\"]<8),\"performance\"]=\"Excellent\"##checking l2 operator performance in the range of 0-8sec\n",
        "\n",
        "l2_operator.loc[(~l2_operator[\"L2Decision\"].str.contains(\"Time out\"))&(l2_operator[\"timesecs1\"]>=8) & (l2_operator[\"timesecs1\"]<17),\"performance\"]=\"Good\"##checking l2 operator performance in the range of 0-8sec\n",
        "\n",
        "l2_operator.loc[(~l2_operator[\"L2Decision\"].str.contains(\"Time out\"))&(l2_operator[\"timesecs1\"]>=17) & (l2_operator[\"timesecs1\"]<=25),\"performance\"]=\"Normal\"#checking l2 operator performance in the range of17-25 sec\n",
        "\n",
        "l2_operator.loc[(l2_operator[\"L2Decision\"].str.contains(\"Time out\"))& (l2_operator[\"timesecs1\"]>25) ,\"performance\"]=\"Bad\"#checking l2 operator performance in the range of above 25sec\n",
        "\n",
        "l2_operator[\"performance\"].value_counts()#cunt the  operator's performance "
      ],
      "execution_count": null,
      "outputs": [
        {
          "output_type": "execute_result",
          "data": {
            "text/plain": [
              "Good         412020\n",
              "Normal       315439\n",
              "Excellent    192642\n",
              "Bad           22449\n",
              "Name: performance, dtype: int64"
            ]
          },
          "metadata": {
            "tags": []
          },
          "execution_count": 31
        }
      ]
    },
    {
      "cell_type": "code",
      "metadata": {
        "colab": {
          "base_uri": "https://localhost:8080/"
        },
        "id": "sVA3mNp_JFK4",
        "outputId": "3fdf5128-b73e-4c5b-85de-10d2ecf3b49c"
      },
      "source": [
        "l2_operator.isna().sum()"
      ],
      "execution_count": null,
      "outputs": [
        {
          "output_type": "execute_result",
          "data": {
            "text/plain": [
              "Level1Decision    0\n",
              "L2Decision        0\n",
              "L2LoginID         0\n",
              "L2DecisionTime    0\n",
              "timediff1         0\n",
              "timesecs1         0\n",
              "performance       0\n",
              "dtype: int64"
            ]
          },
          "metadata": {
            "tags": []
          },
          "execution_count": 32
        }
      ]
    },
    {
      "cell_type": "code",
      "metadata": {
        "id": "pWrjHZncI-TF"
      },
      "source": [
        "l2_operator=l2_operator.drop([\"Level1Decision\",\"L2DecisionTime\",\"timediff1\"],axis=1)#dropped all these irrelevant columns"
      ],
      "execution_count": null,
      "outputs": []
    },
    {
      "cell_type": "code",
      "metadata": {
        "id": "J1yxpROb9D9T"
      },
      "source": [
        "l2_operator.to_csv(\"/content/gdrive/My Drive/airport/l2_operator.csv\",index=False)"
      ],
      "execution_count": null,
      "outputs": []
    },
    {
      "cell_type": "code",
      "metadata": {
        "colab": {
          "base_uri": "https://localhost:8080/"
        },
        "id": "rGUrs7O4n8Zl",
        "outputId": "688260a2-d782-48f0-c249-7d3a5ca38b9d"
      },
      "source": [
        "\n",
        "###### l3 operator \n",
        "\n",
        "l3_operator=data.drop([\"MVXR\",\"BHSID\",\"BHSID_prefix\",\"Airlines_names\",\"Level1Decision\",\"L2Decision\",\"L2LoginID\"],axis=1)#dropped all these columns for l3 operator\n",
        "\n",
        "l3_operator=l3_operator[~(l3_operator[\"L3Decision\"].str.contains(\"-\"))]##dropped special characters in l3Decision column\n",
        "\n",
        "l3_operator.isna().sum()#checking null values\n",
        "\n",
        "\n",
        "\n",
        "l3_operator=l3_operator[~(l3_operator[\"L3Decision\"].str.contains(\"Default Reject\"))]##dropped default rekect from l3decision column\n",
        "\n",
        "l3_operator[\"timediff2\"]=l3_operator[\"L3DecisionTime\"]-l3_operator[\"L2DecisionTime\"]#]amount of time taken in sec by an operator to perform an l3 check \n",
        "l3_operator[\"timesecs2\"]=l3_operator[\"timediff2\"]/np.timedelta64(1,'s')##Converting into secs from timedelta to int format\n",
        "\n",
        "\n",
        "l3_operator[\"L3Decision\"].value_counts()##count the values of no of l3decision \n",
        "\n",
        "l3_operator=l3_operator[~(l3_operator[\"L3Decision\"].str.contains(\"Accept\") & (l3_operator.timesecs2>60))]]##createing bin labela for accept of l3 operator\n",
        "\n",
        "l3_operator=l3_operator[~(l3_operator[\"L3Decision\"].str.contains(\"Reject\") & (l3_operator.timesecs2>60))]#createing bin labela for reject of l3 operator\n",
        "\n",
        "l3_operator=l3_operator[~(l3_operator[\"L3Decision\"].str.contains(\"Time out\") & (l3_operator.timesecs2<60))]#createing bin labela for timeout of l3 operator\n",
        "\n",
        "\n",
        "l3_operator.loc[(~l3_operator[\"L3Decision\"].str.contains(\"Time out\"))&(l3_operator[\"timesecs2\"]>=0) & (l3_operator[\"timesecs2\"]<20),\"performance\"]=\"Excellent\"#checking l3 operator performance in the range of 0-20sec\n",
        "\n",
        "l3_operator.loc[(~l3_operator[\"L3Decision\"].str.contains(\"Time out\"))&(l3_operator[\"timesecs2\"]>=20) & (l3_operator[\"timesecs2\"]<40),\"performance\"]=\"Good\"#checking l3 operator performance in the range of 20-40sec\n",
        "\n",
        "l3_operator.loc[(~l3_operator[\"L3Decision\"].str.contains(\"Time out\"))&(l3_operator[\"timesecs2\"]>=40) & (l3_operator[\"timesecs2\"]<=60),\"performance\"]=\"Normal\"#checking l3 operator performance in the range of 40-60sec\n",
        "\n",
        "l3_operator.loc[(l3_operator[\"L3Decision\"].str.contains(\"Time out\"))& (l3_operator[\"timesecs2\"]>60) ,\"performance\"]=\"Bad\"#checking l3 operator performance in the range of above 60sec\n",
        "\n",
        "l3_operator.isna().sum()\n",
        "\n",
        "l3_operator[\"performance\"].value_counts()#checking count of performance of le operator\n",
        "\n"
      ],
      "execution_count": null,
      "outputs": [
        {
          "output_type": "execute_result",
          "data": {
            "text/plain": [
              "Excellent    110473\n",
              "Good          76913\n",
              "Normal        39300\n",
              "Bad            3164\n",
              "Name: performance, dtype: int64"
            ]
          },
          "metadata": {
            "tags": []
          },
          "execution_count": 36
        }
      ]
    },
    {
      "cell_type": "code",
      "metadata": {
        "colab": {
          "base_uri": "https://localhost:8080/"
        },
        "id": "VVorgBNCrSUL",
        "outputId": "cc946f3b-079a-43c8-9786-dc14413e5d51"
      },
      "source": [
        "l3_operator.isna().sum())##checking null values"
      ],
      "execution_count": null,
      "outputs": [
        {
          "output_type": "execute_result",
          "data": {
            "text/plain": [
              "L2DecisionTime    0\n",
              "L3Decision        0\n",
              "L3LoginID         0\n",
              "L3DecisionTime    0\n",
              "timediff2         0\n",
              "timesecs2         0\n",
              "performance       0\n",
              "dtype: int64"
            ]
          },
          "metadata": {
            "tags": []
          },
          "execution_count": 37
        }
      ]
    },
    {
      "cell_type": "code",
      "metadata": {
        "id": "jkELyGQ7HnLb"
      },
      "source": [
        "l3_operator=l3_operator.drop([\"L2DecisionTime\",\"L3DecisionTime\",\"timediff2\"],axis=1)#dropped these irrlevant columns for l3 operator"
      ],
      "execution_count": null,
      "outputs": []
    },
    {
      "cell_type": "code",
      "metadata": {
        "id": "h2zpo7sDIQMh"
      },
      "source": [
        "l3_operator[\"L3LoginID\"]=l3_operator[\"L3LoginID\"].astype(str).astype(float)#converting float from object for l3loginids"
      ],
      "execution_count": null,
      "outputs": []
    },
    {
      "cell_type": "code",
      "metadata": {
        "colab": {
          "base_uri": "https://localhost:8080/"
        },
        "id": "IWdXby54IxWB",
        "outputId": "c00cde8a-2a28-4397-abf3-e75978b952f6"
      },
      "source": [
        "l3_operator.info()#information about l3 operator"
      ],
      "execution_count": null,
      "outputs": [
        {
          "output_type": "stream",
          "text": [
            "<class 'pandas.core.frame.DataFrame'>\n",
            "Int64Index: 229850 entries, 0 to 1048573\n",
            "Data columns (total 4 columns):\n",
            " #   Column       Non-Null Count   Dtype  \n",
            "---  ------       --------------   -----  \n",
            " 0   L3Decision   229850 non-null  object \n",
            " 1   L3LoginID    229850 non-null  float64\n",
            " 2   timesecs2    229850 non-null  float64\n",
            " 3   performance  229850 non-null  object \n",
            "dtypes: float64(2), object(2)\n",
            "memory usage: 8.8+ MB\n"
          ],
          "name": "stdout"
        }
      ]
    },
    {
      "cell_type": "code",
      "metadata": {
        "id": "P9ERA8cOGLae"
      },
      "source": [
        "l3_operator.to_csv(\"/content/gdrive/My Drive/airport/l3_operator.csv\",index=False)#extracted the l3 operator and created a data frame in csv file"
      ],
      "execution_count": null,
      "outputs": []
    }
  ]
}